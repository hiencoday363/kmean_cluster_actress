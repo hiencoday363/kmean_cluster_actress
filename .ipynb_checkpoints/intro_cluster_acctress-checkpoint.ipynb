{
 "cells": [
  {
   "cell_type": "code",
   "execution_count": 3,
   "metadata": {},
   "outputs": [],
   "source": [
    "import pandas as pd\n",
    "import numpy as np\n",
    "import matplotlib.pyplot as plt"
   ]
  },
  {
   "cell_type": "code",
   "execution_count": 5,
   "metadata": {},
   "outputs": [
    {
     "data": {
      "text/html": [
       "<div>\n",
       "<style scoped>\n",
       "    .dataframe tbody tr th:only-of-type {\n",
       "        vertical-align: middle;\n",
       "    }\n",
       "\n",
       "    .dataframe tbody tr th {\n",
       "        vertical-align: top;\n",
       "    }\n",
       "\n",
       "    .dataframe thead th {\n",
       "        text-align: right;\n",
       "    }\n",
       "</style>\n",
       "<table border=\"1\" class=\"dataframe\">\n",
       "  <thead>\n",
       "    <tr style=\"text-align: right;\">\n",
       "      <th></th>\n",
       "      <th>id</th>\n",
       "      <th>name</th>\n",
       "      <th>japanName</th>\n",
       "      <th>hiragana</th>\n",
       "      <th>bust</th>\n",
       "      <th>waist</th>\n",
       "      <th>hip</th>\n",
       "      <th>height</th>\n",
       "      <th>birthday</th>\n",
       "      <th>blood_type</th>\n",
       "      <th>hobby</th>\n",
       "      <th>prefectures</th>\n",
       "    </tr>\n",
       "  </thead>\n",
       "  <tbody>\n",
       "    <tr>\n",
       "      <th>0</th>\n",
       "      <td>3</td>\n",
       "      <td>Kitagawa Yui</td>\n",
       "      <td>北川ゆい</td>\n",
       "      <td>きたがわゆい</td>\n",
       "      <td>95.0</td>\n",
       "      <td>60.0</td>\n",
       "      <td>88.0</td>\n",
       "      <td>NaN</td>\n",
       "      <td>1980-12-14</td>\n",
       "      <td>AB</td>\n",
       "      <td>クラシックバレエ</td>\n",
       "      <td>None</td>\n",
       "    </tr>\n",
       "    <tr>\n",
       "      <th>1</th>\n",
       "      <td>4</td>\n",
       "      <td>Akira</td>\n",
       "      <td>Akira</td>\n",
       "      <td>あきら</td>\n",
       "      <td>90.0</td>\n",
       "      <td>58.0</td>\n",
       "      <td>86.0</td>\n",
       "      <td>157.0</td>\n",
       "      <td>1978-08-15</td>\n",
       "      <td>A</td>\n",
       "      <td>水泳、ゴルフ</td>\n",
       "      <td>東京都</td>\n",
       "    </tr>\n",
       "    <tr>\n",
       "      <th>2</th>\n",
       "      <td>6</td>\n",
       "      <td>Cocolo</td>\n",
       "      <td>COCOLO</td>\n",
       "      <td>こころ</td>\n",
       "      <td>96.0</td>\n",
       "      <td>55.0</td>\n",
       "      <td>85.0</td>\n",
       "      <td>168.0</td>\n",
       "      <td>1982-07-07</td>\n",
       "      <td>B</td>\n",
       "      <td>パソコン</td>\n",
       "      <td>茨城県</td>\n",
       "    </tr>\n",
       "    <tr>\n",
       "      <th>3</th>\n",
       "      <td>8</td>\n",
       "      <td>Saiko</td>\n",
       "      <td>Saiko</td>\n",
       "      <td>さいこ</td>\n",
       "      <td>80.0</td>\n",
       "      <td>59.0</td>\n",
       "      <td>82.0</td>\n",
       "      <td>162.0</td>\n",
       "      <td>1983-04-12</td>\n",
       "      <td>O</td>\n",
       "      <td>料理、大食い</td>\n",
       "      <td>東京都</td>\n",
       "    </tr>\n",
       "    <tr>\n",
       "      <th>4</th>\n",
       "      <td>11</td>\n",
       "      <td>Aida Momo</td>\n",
       "      <td>あいだもも</td>\n",
       "      <td>あいだもも</td>\n",
       "      <td>82.0</td>\n",
       "      <td>55.0</td>\n",
       "      <td>89.0</td>\n",
       "      <td>162.0</td>\n",
       "      <td>1970-06-18</td>\n",
       "      <td>A</td>\n",
       "      <td>エアロビクス</td>\n",
       "      <td>東京都</td>\n",
       "    </tr>\n",
       "  </tbody>\n",
       "</table>\n",
       "</div>"
      ],
      "text/plain": [
       "   id          name japanName hiragana  bust  waist   hip  height    birthday  \\\n",
       "0   3  Kitagawa Yui      北川ゆい   きたがわゆい  95.0   60.0  88.0     NaN  1980-12-14   \n",
       "1   4         Akira     Akira      あきら  90.0   58.0  86.0   157.0  1978-08-15   \n",
       "2   6        Cocolo    COCOLO      こころ  96.0   55.0  85.0   168.0  1982-07-07   \n",
       "3   8         Saiko     Saiko      さいこ  80.0   59.0  82.0   162.0  1983-04-12   \n",
       "4  11     Aida Momo     あいだもも    あいだもも  82.0   55.0  89.0   162.0  1970-06-18   \n",
       "\n",
       "  blood_type     hobby prefectures  \n",
       "0         AB  クラシックバレエ        None  \n",
       "1          A    水泳、ゴルフ         東京都  \n",
       "2          B      パソコン         茨城県  \n",
       "3          O    料理、大食い         東京都  \n",
       "4          A    エアロビクス         東京都  "
      ]
     },
     "execution_count": 5,
     "metadata": {},
     "output_type": "execute_result"
    }
   ],
   "source": [
    "# read data from json\n",
    "data_root = pd.read_json('acctress.json')\n",
    "data_root.head()"
   ]
  },
  {
   "cell_type": "code",
   "execution_count": 83,
   "metadata": {},
   "outputs": [
    {
     "data": {
      "text/plain": [
       "695"
      ]
     },
     "execution_count": 83,
     "metadata": {},
     "output_type": "execute_result"
    }
   ],
   "source": [
    "# get current year\n",
    "from datetime import datetime\n",
    "current_year = datetime.now().strftime(\"%Y\")\n",
    "\n",
    "data_root['birthday'] = pd.to_datetime(data_root['birthday'], yearfirst=True)\n",
    "\n",
    "data_root['age'] = int(current_year) - pd.DatetimeIndex(data_root['birthday']).year\n",
    "data_root.head()"
   ]
  },
  {
   "cell_type": "code",
   "execution_count": 84,
   "metadata": {},
   "outputs": [
    {
     "data": {
      "text/html": [
       "<div>\n",
       "<style scoped>\n",
       "    .dataframe tbody tr th:only-of-type {\n",
       "        vertical-align: middle;\n",
       "    }\n",
       "\n",
       "    .dataframe tbody tr th {\n",
       "        vertical-align: top;\n",
       "    }\n",
       "\n",
       "    .dataframe thead th {\n",
       "        text-align: right;\n",
       "    }\n",
       "</style>\n",
       "<table border=\"1\" class=\"dataframe\">\n",
       "  <thead>\n",
       "    <tr style=\"text-align: right;\">\n",
       "      <th></th>\n",
       "      <th>id</th>\n",
       "      <th>name</th>\n",
       "      <th>japanName</th>\n",
       "      <th>hiragana</th>\n",
       "      <th>bust</th>\n",
       "      <th>waist</th>\n",
       "      <th>hip</th>\n",
       "      <th>height</th>\n",
       "      <th>birthday</th>\n",
       "      <th>blood_type</th>\n",
       "      <th>hobby</th>\n",
       "      <th>prefectures</th>\n",
       "      <th>age</th>\n",
       "    </tr>\n",
       "  </thead>\n",
       "  <tbody>\n",
       "    <tr>\n",
       "      <th>0</th>\n",
       "      <td>3</td>\n",
       "      <td>Kitagawa Yui</td>\n",
       "      <td>北川ゆい</td>\n",
       "      <td>きたがわゆい</td>\n",
       "      <td>95.0</td>\n",
       "      <td>60.0</td>\n",
       "      <td>88.0</td>\n",
       "      <td>NaN</td>\n",
       "      <td>1980-12-14</td>\n",
       "      <td>AB</td>\n",
       "      <td>クラシックバレエ</td>\n",
       "      <td>None</td>\n",
       "      <td>41.0</td>\n",
       "    </tr>\n",
       "    <tr>\n",
       "      <th>1</th>\n",
       "      <td>4</td>\n",
       "      <td>Akira</td>\n",
       "      <td>Akira</td>\n",
       "      <td>あきら</td>\n",
       "      <td>90.0</td>\n",
       "      <td>58.0</td>\n",
       "      <td>86.0</td>\n",
       "      <td>157.0</td>\n",
       "      <td>1978-08-15</td>\n",
       "      <td>A</td>\n",
       "      <td>水泳、ゴルフ</td>\n",
       "      <td>東京都</td>\n",
       "      <td>43.0</td>\n",
       "    </tr>\n",
       "    <tr>\n",
       "      <th>2</th>\n",
       "      <td>6</td>\n",
       "      <td>Cocolo</td>\n",
       "      <td>COCOLO</td>\n",
       "      <td>こころ</td>\n",
       "      <td>96.0</td>\n",
       "      <td>55.0</td>\n",
       "      <td>85.0</td>\n",
       "      <td>168.0</td>\n",
       "      <td>1982-07-07</td>\n",
       "      <td>B</td>\n",
       "      <td>パソコン</td>\n",
       "      <td>茨城県</td>\n",
       "      <td>39.0</td>\n",
       "    </tr>\n",
       "    <tr>\n",
       "      <th>3</th>\n",
       "      <td>8</td>\n",
       "      <td>Saiko</td>\n",
       "      <td>Saiko</td>\n",
       "      <td>さいこ</td>\n",
       "      <td>80.0</td>\n",
       "      <td>59.0</td>\n",
       "      <td>82.0</td>\n",
       "      <td>162.0</td>\n",
       "      <td>1983-04-12</td>\n",
       "      <td>O</td>\n",
       "      <td>料理、大食い</td>\n",
       "      <td>東京都</td>\n",
       "      <td>38.0</td>\n",
       "    </tr>\n",
       "    <tr>\n",
       "      <th>4</th>\n",
       "      <td>11</td>\n",
       "      <td>Aida Momo</td>\n",
       "      <td>あいだもも</td>\n",
       "      <td>あいだもも</td>\n",
       "      <td>82.0</td>\n",
       "      <td>55.0</td>\n",
       "      <td>89.0</td>\n",
       "      <td>162.0</td>\n",
       "      <td>1970-06-18</td>\n",
       "      <td>A</td>\n",
       "      <td>エアロビクス</td>\n",
       "      <td>東京都</td>\n",
       "      <td>51.0</td>\n",
       "    </tr>\n",
       "  </tbody>\n",
       "</table>\n",
       "</div>"
      ],
      "text/plain": [
       "   id          name japanName hiragana  bust  waist   hip  height   birthday  \\\n",
       "0   3  Kitagawa Yui      北川ゆい   きたがわゆい  95.0   60.0  88.0     NaN 1980-12-14   \n",
       "1   4         Akira     Akira      あきら  90.0   58.0  86.0   157.0 1978-08-15   \n",
       "2   6        Cocolo    COCOLO      こころ  96.0   55.0  85.0   168.0 1982-07-07   \n",
       "3   8         Saiko     Saiko      さいこ  80.0   59.0  82.0   162.0 1983-04-12   \n",
       "4  11     Aida Momo     あいだもも    あいだもも  82.0   55.0  89.0   162.0 1970-06-18   \n",
       "\n",
       "  blood_type     hobby prefectures   age  \n",
       "0         AB  クラシックバレエ        None  41.0  \n",
       "1          A    水泳、ゴルフ         東京都  43.0  \n",
       "2          B      パソコン         茨城県  39.0  \n",
       "3          O    料理、大食い         東京都  38.0  \n",
       "4          A    エアロビクス         東京都  51.0  "
      ]
     },
     "execution_count": 84,
     "metadata": {},
     "output_type": "execute_result"
    }
   ],
   "source": [
    "data_root.head()"
   ]
  },
  {
   "cell_type": "code",
   "execution_count": 87,
   "metadata": {},
   "outputs": [],
   "source": [
    "# save to csv file\n",
    "data_root.to_csv(\"acctress.csv\", index=False)"
   ]
  },
  {
   "cell_type": "code",
   "execution_count": 106,
   "metadata": {},
   "outputs": [
    {
     "data": {
      "text/html": [
       "<div>\n",
       "<style scoped>\n",
       "    .dataframe tbody tr th:only-of-type {\n",
       "        vertical-align: middle;\n",
       "    }\n",
       "\n",
       "    .dataframe tbody tr th {\n",
       "        vertical-align: top;\n",
       "    }\n",
       "\n",
       "    .dataframe thead th {\n",
       "        text-align: right;\n",
       "    }\n",
       "</style>\n",
       "<table border=\"1\" class=\"dataframe\">\n",
       "  <thead>\n",
       "    <tr style=\"text-align: right;\">\n",
       "      <th></th>\n",
       "      <th>bust</th>\n",
       "      <th>waist</th>\n",
       "      <th>hip</th>\n",
       "      <th>age</th>\n",
       "    </tr>\n",
       "  </thead>\n",
       "  <tbody>\n",
       "    <tr>\n",
       "      <th>0</th>\n",
       "      <td>95.0</td>\n",
       "      <td>60.0</td>\n",
       "      <td>88.0</td>\n",
       "      <td>41.0</td>\n",
       "    </tr>\n",
       "    <tr>\n",
       "      <th>1</th>\n",
       "      <td>90.0</td>\n",
       "      <td>58.0</td>\n",
       "      <td>86.0</td>\n",
       "      <td>43.0</td>\n",
       "    </tr>\n",
       "    <tr>\n",
       "      <th>2</th>\n",
       "      <td>96.0</td>\n",
       "      <td>55.0</td>\n",
       "      <td>85.0</td>\n",
       "      <td>39.0</td>\n",
       "    </tr>\n",
       "    <tr>\n",
       "      <th>3</th>\n",
       "      <td>80.0</td>\n",
       "      <td>59.0</td>\n",
       "      <td>82.0</td>\n",
       "      <td>38.0</td>\n",
       "    </tr>\n",
       "    <tr>\n",
       "      <th>4</th>\n",
       "      <td>82.0</td>\n",
       "      <td>55.0</td>\n",
       "      <td>89.0</td>\n",
       "      <td>51.0</td>\n",
       "    </tr>\n",
       "    <tr>\n",
       "      <th>...</th>\n",
       "      <td>...</td>\n",
       "      <td>...</td>\n",
       "      <td>...</td>\n",
       "      <td>...</td>\n",
       "    </tr>\n",
       "    <tr>\n",
       "      <th>11181</th>\n",
       "      <td>80.0</td>\n",
       "      <td>60.0</td>\n",
       "      <td>83.0</td>\n",
       "      <td>41.0</td>\n",
       "    </tr>\n",
       "    <tr>\n",
       "      <th>11182</th>\n",
       "      <td>88.0</td>\n",
       "      <td>58.0</td>\n",
       "      <td>87.0</td>\n",
       "      <td>37.0</td>\n",
       "    </tr>\n",
       "    <tr>\n",
       "      <th>11183</th>\n",
       "      <td>84.0</td>\n",
       "      <td>59.0</td>\n",
       "      <td>86.0</td>\n",
       "      <td>NaN</td>\n",
       "    </tr>\n",
       "    <tr>\n",
       "      <th>11184</th>\n",
       "      <td>90.0</td>\n",
       "      <td>63.0</td>\n",
       "      <td>87.0</td>\n",
       "      <td>NaN</td>\n",
       "    </tr>\n",
       "    <tr>\n",
       "      <th>11185</th>\n",
       "      <td>88.0</td>\n",
       "      <td>59.0</td>\n",
       "      <td>86.0</td>\n",
       "      <td>37.0</td>\n",
       "    </tr>\n",
       "  </tbody>\n",
       "</table>\n",
       "<p>11186 rows × 4 columns</p>\n",
       "</div>"
      ],
      "text/plain": [
       "       bust  waist   hip   age\n",
       "0      95.0   60.0  88.0  41.0\n",
       "1      90.0   58.0  86.0  43.0\n",
       "2      96.0   55.0  85.0  39.0\n",
       "3      80.0   59.0  82.0  38.0\n",
       "4      82.0   55.0  89.0  51.0\n",
       "...     ...    ...   ...   ...\n",
       "11181  80.0   60.0  83.0  41.0\n",
       "11182  88.0   58.0  87.0  37.0\n",
       "11183  84.0   59.0  86.0   NaN\n",
       "11184  90.0   63.0  87.0   NaN\n",
       "11185  88.0   59.0  86.0  37.0\n",
       "\n",
       "[11186 rows x 4 columns]"
      ]
     },
     "execution_count": 106,
     "metadata": {},
     "output_type": "execute_result"
    }
   ],
   "source": [
    "data = data_root[['bust', 'waist', 'hip', 'age']]\n",
    "data"
   ]
  },
  {
   "cell_type": "code",
   "execution_count": 107,
   "metadata": {},
   "outputs": [
    {
     "name": "stderr",
     "output_type": "stream",
     "text": [
      "<ipython-input-107-b5f3719ac1ef>:2: SettingWithCopyWarning: \n",
      "A value is trying to be set on a copy of a slice from a DataFrame.\n",
      "Try using .loc[row_indexer,col_indexer] = value instead\n",
      "\n",
      "See the caveats in the documentation: https://pandas.pydata.org/pandas-docs/stable/user_guide/indexing.html#returning-a-view-versus-a-copy\n",
      "  data['age'] = data['age'].fillna(int(data['age'].mean()))\n"
     ]
    },
    {
     "data": {
      "text/plain": [
       "0"
      ]
     },
     "execution_count": 107,
     "metadata": {},
     "output_type": "execute_result"
    }
   ],
   "source": [
    "# fill value to nan column age\n",
    "data['age'] = data['age'].fillna(int(data['age'].mean()))\n",
    "data['age'].isna().sum()"
   ]
  },
  {
   "cell_type": "code",
   "execution_count": 108,
   "metadata": {},
   "outputs": [
    {
     "data": {
      "text/plain": [
       "bust     0\n",
       "waist    0\n",
       "hip      0\n",
       "age      0\n",
       "dtype: int64"
      ]
     },
     "execution_count": 108,
     "metadata": {},
     "output_type": "execute_result"
    }
   ],
   "source": [
    "# drop nan\n",
    "\n",
    "data = data.dropna()\n",
    "data.isna().sum()"
   ]
  },
  {
   "cell_type": "code",
   "execution_count": 111,
   "metadata": {},
   "outputs": [
    {
     "data": {
      "text/plain": [
       "array([[95., 60., 88., 41.],\n",
       "       [90., 58., 86., 43.],\n",
       "       [96., 55., 85., 39.],\n",
       "       ...,\n",
       "       [84., 59., 86., 36.],\n",
       "       [90., 63., 87., 36.],\n",
       "       [88., 59., 86., 37.]])"
      ]
     },
     "execution_count": 111,
     "metadata": {},
     "output_type": "execute_result"
    }
   ],
   "source": [
    "len(data)\n",
    "data.to_numpy()"
   ]
  },
  {
   "cell_type": "code",
   "execution_count": 110,
   "metadata": {},
   "outputs": [],
   "source": [
    "# create model use Kmean\n",
    "from sklearn.cluster import KMeans"
   ]
  },
  {
   "cell_type": "code",
   "execution_count": 115,
   "metadata": {},
   "outputs": [],
   "source": [
    "# tính xem cần gom thành bao nhiêu nhóm thì là đẹp\n",
    "data_np = data.to_numpy()\n",
    "K = range(1, 14)\n",
    "\n",
    "sum_distance = []\n",
    "\n",
    "for k in K:\n",
    "    kmean = KMeans(n_clusters=k)\n",
    "    kmean.fit(data_np)\n",
    "    sum_distance.append(kmean.inertia_)"
   ]
  },
  {
   "cell_type": "code",
   "execution_count": 129,
   "metadata": {},
   "outputs": [
    {
     "data": {
      "image/png": "[encoded data removed]",
      "text/plain": [
       "<Figure size 720x432 with 1 Axes>"
      ]
     },
     "metadata": {
      "needs_background": "light"
     },
     "output_type": "display_data"
    }
   ],
   "source": [
    "# create subplots\n",
    "fig, ax = plt.subplots(figsize=(10,6))\n",
    "\n",
    "# plot data\n",
    "ax.plot(K, sum_distance, 'go-')\n",
    "ax.set_xlabel('number of cluster kmean')\n",
    "ax.set_ylabel('kmean inertia')\n",
    "ax.set_xlim([0,15]);"
   ]
  },
  {
   "cell_type": "code",
   "execution_count": 173,
   "metadata": {},
   "outputs": [],
   "source": [
    "# create model and train model\n",
    "kmean_5 = KMeans(n_clusters=5)\n",
    "model = kmean_5.fit(data_np)\n",
    "\n",
    "# nó tự động phân loại nhóm \n",
    "result = kmean_5.labels_"
   ]
  },
  {
   "cell_type": "code",
   "execution_count": 237,
   "metadata": {},
   "outputs": [
    {
     "data": {
      "text/plain": [
       "array([2, 3, 2, ..., 1, 2, 2])"
      ]
     },
     "execution_count": 237,
     "metadata": {},
     "output_type": "execute_result"
    }
   ],
   "source": [
    "result"
   ]
  },
  {
   "cell_type": "code",
   "execution_count": 236,
   "metadata": {},
   "outputs": [
    {
     "data": {
      "image/png": "[encoded data removed]",
      "text/plain": [
       "<Figure size 1080x720 with 1 Axes>"
      ]
     },
     "metadata": {
      "needs_background": "light"
     },
     "output_type": "display_data"
    }
   ],
   "source": [
    "# visualize \n",
    "\n",
    "fig, axis = plt.subplots(figsize=(15,10))\n",
    "\n",
    "axis.scatter(\n",
    "    data_np[result==0,3],\n",
    "    data_np[result==0,0],\n",
    "    c='lightgreen',\n",
    "    marker='s',\n",
    "    edgecolor=\"black\",\n",
    "    label='cluster 1'\n",
    ")\n",
    "\n",
    "axis.scatter(\n",
    "    data_np[result==1,3],\n",
    "    data_np[result==1,0],\n",
    "    c='red',\n",
    "    marker='o',\n",
    "    edgecolor=\"black\",\n",
    "    label='cluster 2'\n",
    ")\n",
    "\n",
    "axis.scatter(\n",
    "    data_np[result==2,3],\n",
    "    data_np[result==2,0],\n",
    "    c='orange',\n",
    "    marker='v',\n",
    "    edgecolor=\"black\",\n",
    "    label='cluster 3'\n",
    ")\n",
    "\n",
    "axis.scatter(\n",
    "    data_np[result==3,3],\n",
    "    data_np[result==3,0],\n",
    "    c='yellow',\n",
    "    marker='*',\n",
    "    edgecolor=\"black\",\n",
    "    label='cluster 4'\n",
    ")\n",
    "\n",
    "axis.scatter(\n",
    "    data_np[result==4,3],\n",
    "    data_np[result==4,0],\n",
    "    c='blue',\n",
    "    marker='s',\n",
    "    edgecolor=\"black\",\n",
    "    label='cluster 5'\n",
    ")\n",
    "\n",
    "axis.legend()\n",
    "plt.show()"
   ]
  },
  {
   "cell_type": "code",
   "execution_count": 184,
   "metadata": {},
   "outputs": [
    {
     "name": "stderr",
     "output_type": "stream",
     "text": [
      "<ipython-input-184-3a1acaefefbc>:4: SettingWithCopyWarning: \n",
      "A value is trying to be set on a copy of a slice from a DataFrame.\n",
      "Try using .loc[row_indexer,col_indexer] = value instead\n",
      "\n",
      "See the caveats in the documentation: https://pandas.pydata.org/pandas-docs/stable/user_guide/indexing.html#returning-a-view-versus-a-copy\n",
      "  df1['age'] = df1['age'].fillna(int(df1['age'].mean()))\n"
     ]
    }
   ],
   "source": [
    "df1 = data_root[['id', 'name', 'bust', 'waist', 'hip', 'age']]\n",
    "\n",
    "# fill value to nan column age\n",
    "df1['age'] = df1['age'].fillna(int(df1['age'].mean()))\n",
    "\n",
    "# drop na\n",
    "df1 = df1.dropna()\n",
    "df1['cluster'] = result\n"
   ]
  },
  {
   "cell_type": "code",
   "execution_count": 185,
   "metadata": {},
   "outputs": [
    {
     "data": {
      "text/html": [
       "<div>\n",
       "<style scoped>\n",
       "    .dataframe tbody tr th:only-of-type {\n",
       "        vertical-align: middle;\n",
       "    }\n",
       "\n",
       "    .dataframe tbody tr th {\n",
       "        vertical-align: top;\n",
       "    }\n",
       "\n",
       "    .dataframe thead th {\n",
       "        text-align: right;\n",
       "    }\n",
       "</style>\n",
       "<table border=\"1\" class=\"dataframe\">\n",
       "  <thead>\n",
       "    <tr style=\"text-align: right;\">\n",
       "      <th></th>\n",
       "      <th>id</th>\n",
       "      <th>name</th>\n",
       "      <th>bust</th>\n",
       "      <th>waist</th>\n",
       "      <th>hip</th>\n",
       "      <th>age</th>\n",
       "      <th>cluster</th>\n",
       "    </tr>\n",
       "  </thead>\n",
       "  <tbody>\n",
       "    <tr>\n",
       "      <th>0</th>\n",
       "      <td>3</td>\n",
       "      <td>Kitagawa Yui</td>\n",
       "      <td>95.0</td>\n",
       "      <td>60.0</td>\n",
       "      <td>88.0</td>\n",
       "      <td>41.0</td>\n",
       "      <td>2</td>\n",
       "    </tr>\n",
       "    <tr>\n",
       "      <th>1</th>\n",
       "      <td>4</td>\n",
       "      <td>Akira</td>\n",
       "      <td>90.0</td>\n",
       "      <td>58.0</td>\n",
       "      <td>86.0</td>\n",
       "      <td>43.0</td>\n",
       "      <td>3</td>\n",
       "    </tr>\n",
       "    <tr>\n",
       "      <th>2</th>\n",
       "      <td>6</td>\n",
       "      <td>Cocolo</td>\n",
       "      <td>96.0</td>\n",
       "      <td>55.0</td>\n",
       "      <td>85.0</td>\n",
       "      <td>39.0</td>\n",
       "      <td>2</td>\n",
       "    </tr>\n",
       "    <tr>\n",
       "      <th>3</th>\n",
       "      <td>8</td>\n",
       "      <td>Saiko</td>\n",
       "      <td>80.0</td>\n",
       "      <td>59.0</td>\n",
       "      <td>82.0</td>\n",
       "      <td>38.0</td>\n",
       "      <td>1</td>\n",
       "    </tr>\n",
       "    <tr>\n",
       "      <th>4</th>\n",
       "      <td>11</td>\n",
       "      <td>Aida Momo</td>\n",
       "      <td>82.0</td>\n",
       "      <td>55.0</td>\n",
       "      <td>89.0</td>\n",
       "      <td>51.0</td>\n",
       "      <td>3</td>\n",
       "    </tr>\n",
       "  </tbody>\n",
       "</table>\n",
       "</div>"
      ],
      "text/plain": [
       "   id          name  bust  waist   hip   age  cluster\n",
       "0   3  Kitagawa Yui  95.0   60.0  88.0  41.0        2\n",
       "1   4         Akira  90.0   58.0  86.0  43.0        3\n",
       "2   6        Cocolo  96.0   55.0  85.0  39.0        2\n",
       "3   8         Saiko  80.0   59.0  82.0  38.0        1\n",
       "4  11     Aida Momo  82.0   55.0  89.0  51.0        3"
      ]
     },
     "execution_count": 185,
     "metadata": {},
     "output_type": "execute_result"
    }
   ],
   "source": [
    "df1.head()"
   ]
  },
  {
   "cell_type": "code",
   "execution_count": 189,
   "metadata": {},
   "outputs": [
    {
     "data": {
      "text/plain": [
       "array([2])"
      ]
     },
     "execution_count": 189,
     "metadata": {},
     "output_type": "execute_result"
    }
   ],
   "source": [
    "pred = model.predict([[95,62,90,30]])\n",
    "pred"
   ]
  },
  {
   "cell_type": "code",
   "execution_count": 195,
   "metadata": {},
   "outputs": [],
   "source": [
    "# function to search\n",
    "\n",
    "def recomment(v1, v2, v3, age):\n",
    "    ar = np.array([[v1,v2,v3,age]])\n",
    "    rs = model.predict(ar)\n",
    "    return df1[df1['cluster'] == rs[0]].sample(10)"
   ]
  },
  {
   "cell_type": "code",
   "execution_count": 196,
   "metadata": {},
   "outputs": [
    {
     "data": {
      "text/html": [
       "<div>\n",
       "<style scoped>\n",
       "    .dataframe tbody tr th:only-of-type {\n",
       "        vertical-align: middle;\n",
       "    }\n",
       "\n",
       "    .dataframe tbody tr th {\n",
       "        vertical-align: top;\n",
       "    }\n",
       "\n",
       "    .dataframe thead th {\n",
       "        text-align: right;\n",
       "    }\n",
       "</style>\n",
       "<table border=\"1\" class=\"dataframe\">\n",
       "  <thead>\n",
       "    <tr style=\"text-align: right;\">\n",
       "      <th></th>\n",
       "      <th>id</th>\n",
       "      <th>name</th>\n",
       "      <th>bust</th>\n",
       "      <th>waist</th>\n",
       "      <th>hip</th>\n",
       "      <th>age</th>\n",
       "      <th>cluster</th>\n",
       "    </tr>\n",
       "  </thead>\n",
       "  <tbody>\n",
       "    <tr>\n",
       "      <th>5182</th>\n",
       "      <td>1014179</td>\n",
       "      <td>Hasegawa Riho</td>\n",
       "      <td>88.0</td>\n",
       "      <td>59.0</td>\n",
       "      <td>85.0</td>\n",
       "      <td>30.0</td>\n",
       "      <td>4</td>\n",
       "    </tr>\n",
       "    <tr>\n",
       "      <th>5388</th>\n",
       "      <td>1016264</td>\n",
       "      <td>Itou Rina</td>\n",
       "      <td>88.0</td>\n",
       "      <td>60.0</td>\n",
       "      <td>90.0</td>\n",
       "      <td>28.0</td>\n",
       "      <td>4</td>\n",
       "    </tr>\n",
       "    <tr>\n",
       "      <th>9305</th>\n",
       "      <td>1050439</td>\n",
       "      <td>Tukino Runa</td>\n",
       "      <td>82.0</td>\n",
       "      <td>56.0</td>\n",
       "      <td>86.0</td>\n",
       "      <td>26.0</td>\n",
       "      <td>4</td>\n",
       "    </tr>\n",
       "    <tr>\n",
       "      <th>4269</th>\n",
       "      <td>1005054</td>\n",
       "      <td>Ooisi Nozomi</td>\n",
       "      <td>86.0</td>\n",
       "      <td>57.0</td>\n",
       "      <td>86.0</td>\n",
       "      <td>31.0</td>\n",
       "      <td>4</td>\n",
       "    </tr>\n",
       "    <tr>\n",
       "      <th>8605</th>\n",
       "      <td>1041183</td>\n",
       "      <td>Ayukawa Tubomi</td>\n",
       "      <td>70.0</td>\n",
       "      <td>56.0</td>\n",
       "      <td>76.0</td>\n",
       "      <td>23.0</td>\n",
       "      <td>4</td>\n",
       "    </tr>\n",
       "    <tr>\n",
       "      <th>7062</th>\n",
       "      <td>1028704</td>\n",
       "      <td>Mihara Honoka</td>\n",
       "      <td>90.0</td>\n",
       "      <td>58.0</td>\n",
       "      <td>85.0</td>\n",
       "      <td>27.0</td>\n",
       "      <td>4</td>\n",
       "    </tr>\n",
       "    <tr>\n",
       "      <th>8489</th>\n",
       "      <td>1039994</td>\n",
       "      <td>Kiriyama Yuuha</td>\n",
       "      <td>82.0</td>\n",
       "      <td>57.0</td>\n",
       "      <td>80.0</td>\n",
       "      <td>25.0</td>\n",
       "      <td>4</td>\n",
       "    </tr>\n",
       "    <tr>\n",
       "      <th>7770</th>\n",
       "      <td>1033895</td>\n",
       "      <td>Yukisiro Kanna</td>\n",
       "      <td>87.0</td>\n",
       "      <td>58.0</td>\n",
       "      <td>88.0</td>\n",
       "      <td>26.0</td>\n",
       "      <td>4</td>\n",
       "    </tr>\n",
       "    <tr>\n",
       "      <th>4859</th>\n",
       "      <td>1011259</td>\n",
       "      <td>Yasuda Yukari</td>\n",
       "      <td>82.0</td>\n",
       "      <td>59.0</td>\n",
       "      <td>82.0</td>\n",
       "      <td>29.0</td>\n",
       "      <td>4</td>\n",
       "    </tr>\n",
       "    <tr>\n",
       "      <th>8240</th>\n",
       "      <td>1037700</td>\n",
       "      <td>Aine Maria</td>\n",
       "      <td>86.0</td>\n",
       "      <td>59.0</td>\n",
       "      <td>88.0</td>\n",
       "      <td>25.0</td>\n",
       "      <td>4</td>\n",
       "    </tr>\n",
       "  </tbody>\n",
       "</table>\n",
       "</div>"
      ],
      "text/plain": [
       "           id            name  bust  waist   hip   age  cluster\n",
       "5182  1014179   Hasegawa Riho  88.0   59.0  85.0  30.0        4\n",
       "5388  1016264       Itou Rina  88.0   60.0  90.0  28.0        4\n",
       "9305  1050439     Tukino Runa  82.0   56.0  86.0  26.0        4\n",
       "4269  1005054    Ooisi Nozomi  86.0   57.0  86.0  31.0        4\n",
       "8605  1041183  Ayukawa Tubomi  70.0   56.0  76.0  23.0        4\n",
       "7062  1028704   Mihara Honoka  90.0   58.0  85.0  27.0        4\n",
       "8489  1039994  Kiriyama Yuuha  82.0   57.0  80.0  25.0        4\n",
       "7770  1033895  Yukisiro Kanna  87.0   58.0  88.0  26.0        4\n",
       "4859  1011259   Yasuda Yukari  82.0   59.0  82.0  29.0        4\n",
       "8240  1037700      Aine Maria  86.0   59.0  88.0  25.0        4"
      ]
     },
     "execution_count": 196,
     "metadata": {},
     "output_type": "execute_result"
    }
   ],
   "source": [
    "v1, v2, v3, age = 90, 60, 80, 30\n",
    "recomment(v1,v2,v3,age)\n"
   ]
  },
  {
   "cell_type": "code",
   "execution_count": 197,
   "metadata": {},
   "outputs": [],
   "source": [
    "# find by name\n",
    "def find_by_name(name):\n",
    "    return df1[df1['name'].str.contains(name, case=False)]"
   ]
  },
  {
   "cell_type": "code",
   "execution_count": 201,
   "metadata": {},
   "outputs": [
    {
     "data": {
      "text/html": [
       "<div>\n",
       "<style scoped>\n",
       "    .dataframe tbody tr th:only-of-type {\n",
       "        vertical-align: middle;\n",
       "    }\n",
       "\n",
       "    .dataframe tbody tr th {\n",
       "        vertical-align: top;\n",
       "    }\n",
       "\n",
       "    .dataframe thead th {\n",
       "        text-align: right;\n",
       "    }\n",
       "</style>\n",
       "<table border=\"1\" class=\"dataframe\">\n",
       "  <thead>\n",
       "    <tr style=\"text-align: right;\">\n",
       "      <th></th>\n",
       "      <th>id</th>\n",
       "      <th>name</th>\n",
       "      <th>bust</th>\n",
       "      <th>waist</th>\n",
       "      <th>hip</th>\n",
       "      <th>age</th>\n",
       "      <th>cluster</th>\n",
       "    </tr>\n",
       "  </thead>\n",
       "  <tbody>\n",
       "  </tbody>\n",
       "</table>\n",
       "</div>"
      ],
      "text/plain": [
       "Empty DataFrame\n",
       "Columns: [id, name, bust, waist, hip, age, cluster]\n",
       "Index: []"
      ]
     },
     "execution_count": 201,
     "metadata": {},
     "output_type": "execute_result"
    }
   ],
   "source": [
    "find_by_name('ozaoa')"
   ]
  },
  {
   "cell_type": "code",
   "execution_count": 230,
   "metadata": {},
   "outputs": [],
   "source": [
    "# find by id\n",
    "\n",
    "def find_by_id(id):\n",
    "    one = df1[df1['id'] == id]\n",
    "    if one.empty:\n",
    "        return f'not found anything for id = {id} '\n",
    "    else:\n",
    "        return recomment(int(one['bust']), int(one['waist']), int(one['hip']), int(one['age']))\n",
    "    "
   ]
  },
  {
   "cell_type": "code",
   "execution_count": 231,
   "metadata": {},
   "outputs": [
    {
     "data": {
      "text/html": [
       "<div>\n",
       "<style scoped>\n",
       "    .dataframe tbody tr th:only-of-type {\n",
       "        vertical-align: middle;\n",
       "    }\n",
       "\n",
       "    .dataframe tbody tr th {\n",
       "        vertical-align: top;\n",
       "    }\n",
       "\n",
       "    .dataframe thead th {\n",
       "        text-align: right;\n",
       "    }\n",
       "</style>\n",
       "<table border=\"1\" class=\"dataframe\">\n",
       "  <thead>\n",
       "    <tr style=\"text-align: right;\">\n",
       "      <th></th>\n",
       "      <th>id</th>\n",
       "      <th>name</th>\n",
       "      <th>bust</th>\n",
       "      <th>waist</th>\n",
       "      <th>hip</th>\n",
       "      <th>age</th>\n",
       "      <th>cluster</th>\n",
       "    </tr>\n",
       "  </thead>\n",
       "  <tbody>\n",
       "    <tr>\n",
       "      <th>8931</th>\n",
       "      <td>1044857</td>\n",
       "      <td>Honjo Suzu</td>\n",
       "      <td>85.0</td>\n",
       "      <td>59.0</td>\n",
       "      <td>88.0</td>\n",
       "      <td>24.0</td>\n",
       "      <td>4</td>\n",
       "    </tr>\n",
       "    <tr>\n",
       "      <th>7334</th>\n",
       "      <td>1030527</td>\n",
       "      <td>Mizutani Aoi</td>\n",
       "      <td>85.0</td>\n",
       "      <td>55.0</td>\n",
       "      <td>85.0</td>\n",
       "      <td>28.0</td>\n",
       "      <td>4</td>\n",
       "    </tr>\n",
       "    <tr>\n",
       "      <th>3721</th>\n",
       "      <td>1000293</td>\n",
       "      <td>Momone Mamiru</td>\n",
       "      <td>81.0</td>\n",
       "      <td>61.0</td>\n",
       "      <td>85.0</td>\n",
       "      <td>30.0</td>\n",
       "      <td>4</td>\n",
       "    </tr>\n",
       "    <tr>\n",
       "      <th>9312</th>\n",
       "      <td>1050542</td>\n",
       "      <td>Nogi Hotaru</td>\n",
       "      <td>90.0</td>\n",
       "      <td>58.0</td>\n",
       "      <td>88.0</td>\n",
       "      <td>22.0</td>\n",
       "      <td>4</td>\n",
       "    </tr>\n",
       "    <tr>\n",
       "      <th>7518</th>\n",
       "      <td>1031830</td>\n",
       "      <td>Namiki Haruka</td>\n",
       "      <td>81.0</td>\n",
       "      <td>58.0</td>\n",
       "      <td>83.0</td>\n",
       "      <td>28.0</td>\n",
       "      <td>4</td>\n",
       "    </tr>\n",
       "    <tr>\n",
       "      <th>7774</th>\n",
       "      <td>1033955</td>\n",
       "      <td>Matusita Miori</td>\n",
       "      <td>90.0</td>\n",
       "      <td>63.0</td>\n",
       "      <td>90.0</td>\n",
       "      <td>26.0</td>\n",
       "      <td>4</td>\n",
       "    </tr>\n",
       "    <tr>\n",
       "      <th>6124</th>\n",
       "      <td>1022582</td>\n",
       "      <td>Hinomoto Aki</td>\n",
       "      <td>83.0</td>\n",
       "      <td>59.0</td>\n",
       "      <td>85.0</td>\n",
       "      <td>26.0</td>\n",
       "      <td>4</td>\n",
       "    </tr>\n",
       "    <tr>\n",
       "      <th>5803</th>\n",
       "      <td>1020064</td>\n",
       "      <td>Asano Yui</td>\n",
       "      <td>84.0</td>\n",
       "      <td>58.0</td>\n",
       "      <td>85.0</td>\n",
       "      <td>28.0</td>\n",
       "      <td>4</td>\n",
       "    </tr>\n",
       "    <tr>\n",
       "      <th>5584</th>\n",
       "      <td>1018233</td>\n",
       "      <td>Honda Riko</td>\n",
       "      <td>88.0</td>\n",
       "      <td>55.0</td>\n",
       "      <td>86.0</td>\n",
       "      <td>30.0</td>\n",
       "      <td>4</td>\n",
       "    </tr>\n",
       "    <tr>\n",
       "      <th>5049</th>\n",
       "      <td>1012984</td>\n",
       "      <td>Aiuti Nozomi</td>\n",
       "      <td>80.0</td>\n",
       "      <td>57.0</td>\n",
       "      <td>83.0</td>\n",
       "      <td>29.0</td>\n",
       "      <td>4</td>\n",
       "    </tr>\n",
       "  </tbody>\n",
       "</table>\n",
       "</div>"
      ],
      "text/plain": [
       "           id            name  bust  waist   hip   age  cluster\n",
       "8931  1044857      Honjo Suzu  85.0   59.0  88.0  24.0        4\n",
       "7334  1030527    Mizutani Aoi  85.0   55.0  85.0  28.0        4\n",
       "3721  1000293   Momone Mamiru  81.0   61.0  85.0  30.0        4\n",
       "9312  1050542     Nogi Hotaru  90.0   58.0  88.0  22.0        4\n",
       "7518  1031830   Namiki Haruka  81.0   58.0  83.0  28.0        4\n",
       "7774  1033955  Matusita Miori  90.0   63.0  90.0  26.0        4\n",
       "6124  1022582    Hinomoto Aki  83.0   59.0  85.0  26.0        4\n",
       "5803  1020064       Asano Yui  84.0   58.0  85.0  28.0        4\n",
       "5584  1018233      Honda Riko  88.0   55.0  86.0  30.0        4\n",
       "5049  1012984    Aiuti Nozomi  80.0   57.0  83.0  29.0        4"
      ]
     },
     "execution_count": 231,
     "metadata": {},
     "output_type": "execute_result"
    }
   ],
   "source": [
    "find_by_id(1014179)"
   ]
  },
  {
   "cell_type": "code",
   "execution_count": 229,
   "metadata": {},
   "outputs": [
    {
     "data": {
      "text/plain": [
       "(88, 59, 85, 30)"
      ]
     },
     "execution_count": 229,
     "metadata": {},
     "output_type": "execute_result"
    }
   ],
   "source": [
    "one = df1[df1['id'] == 1014179]\n",
    "int(one['bust']), int(one['waist']), int(one['hip']), int(one['age'])"
   ]
  },
  {
   "cell_type": "code",
   "execution_count": 220,
   "metadata": {},
   "outputs": [],
   "source": [
    "# save `df1` to csv\n",
    "df1.to_csv('dataframe_use_for_pred.csv', index=False)"
   ]
  },
  {
   "cell_type": "code",
   "execution_count": 244,
   "metadata": {},
   "outputs": [],
   "source": [
    "# df1[df1['age']<=23].sample(40)"
   ]
  },
  {
   "cell_type": "code",
   "execution_count": null,
   "metadata": {},
   "outputs": [],
   "source": []
  }
 ],
 "metadata": {
  "kernelspec": {
   "display_name": "Python 3",
   "language": "python",
   "name": "python3"
  },
  "language_info": {
   "codemirror_mode": {
    "name": "ipython",
    "version": 3
   },
   "file_extension": ".py",
   "mimetype": "text/x-python",
   "name": "python",
   "nbconvert_exporter": "python",
   "pygments_lexer": "ipython3",
   "version": "3.9.0"
  }
 },
 "nbformat": 4,
 "nbformat_minor": 4
}
